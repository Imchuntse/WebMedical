{
 "cells": [
  {
   "cell_type": "code",
   "execution_count": 1,
   "metadata": {},
   "outputs": [],
   "source": [
    "import pymssql\n",
    "import warnings\n",
    "warnings.simplefilter(action='ignore', category=UserWarning)\n",
    "import pandas as pd\n",
    "\n",
    "databse_only_important_sample = \"./model/database_only_important_sample/\"\n",
    "databse_full_sample = \"./model/database_full_sample/\"\n",
    "database_only_important_sample_json = \"./model/database_only_important_sample_json/\"\n",
    "\n",
    "def write_to_full(df,  name):\n",
    "    df.to_csv(databse_full_sample + name+ \".csv\")\n",
    "    \n",
    "def write_to_important(df,  name):\n",
    "    df.to_csv(databse_only_important_sample + name+ \".csv\")\n",
    "    \n",
    "def write_to_json(df,  name):\n",
    "    df = df.map(lambda x: x.strip() if isinstance(x, str) else x)\n",
    "    df.to_json(database_only_important_sample_json + name+ \".json\", orient=\"records\", indent=4)\n",
    "conn = pymssql.connect(server=\"DESKTOP-0MUAA95\\BPSINSTANCE\" , user=\"bpsrawdata\", password=\"password\", database=\"BPSSamples\") \n",
    "cursor = conn.cursor()\n",
    "\n"
   ]
  },
  {
   "cell_type": "code",
   "execution_count": 12,
   "metadata": {},
   "outputs": [],
   "source": [
    "df = pd.read_sql(\"SELECT * FROM PATIENTS\", conn) \n",
    "write_to_full(df, \"Patients\")\n"
   ]
  },
  {
   "cell_type": "code",
   "execution_count": 20,
   "metadata": {},
   "outputs": [],
   "source": [
    "df = pd.read_sql('''SELECT INTERNALID\n",
    "    ,[FIRSTNAME]\n",
    "      ,[MIDDLENAME]\n",
    "      ,[SURNAME]\n",
    "      ,[PREFERREDNAME]       \n",
    "      ,[ADDRESS1]\n",
    "      ,[ADDRESS2]\n",
    "      ,[CITY]\n",
    "      ,[POSTCODE]\n",
    "        ,[DOB]\n",
    "        ,[HOMEPHONE]\n",
    "      ,[WORKPHONE]\n",
    "      ,[MOBILEPHONE]\n",
    "        ,[MEDICARENO]\n",
    "      \n",
    "      FROM PATIENTS\n",
    "      \n",
    "      ''', conn)\n",
    " \n",
    "write_to_important(df, \"Patients\")\n",
    "write_to_json(df, \"Patients\")"
   ]
  },
  {
   "cell_type": "code",
   "execution_count": 11,
   "metadata": {},
   "outputs": [],
   "source": [
    "df = pd.read_sql(\"SELECT * FROM USERS\", conn) \n",
    "write_to_full(df, \"GPs_info\")"
   ]
  },
  {
   "cell_type": "code",
   "execution_count": 21,
   "metadata": {},
   "outputs": [],
   "source": [
    "df = pd.read_sql('''\n",
    "    SELECT [USERID]\n",
    "    ,[SURNAME]\n",
    "      ,[FIRSTNAME]      \n",
    "      ,[EMAIL]      \n",
    "      ,[APPOINTMENTS]\n",
    "      FROM USERS''', conn) \n",
    "write_to_important(df, \"GPs_info\")\n",
    "write_to_json(df, \"GPs_info\")"
   ]
  },
  {
   "cell_type": "code",
   "execution_count": 16,
   "metadata": {},
   "outputs": [],
   "source": [
    "df = pd.read_sql(\"SELECT * FROM Appointments\", conn) \n",
    "write_to_full(df, \"Appointments\")"
   ]
  },
  {
   "cell_type": "code",
   "execution_count": 8,
   "metadata": {},
   "outputs": [],
   "source": [
    "df = pd.read_sql(\"SELECT * FROM APPOINTMENTTYPES\", conn) \n",
    "write_to_full(df, \"Appointments_TYPE\")\n",
    "df = pd.read_sql(\"SELECT * FROM APPOINTMENTCODES\", conn) \n",
    "write_to_full(df, \"Appointments_CODES\")"
   ]
  },
  {
   "cell_type": "code",
   "execution_count": 22,
   "metadata": {},
   "outputs": [],
   "source": [
    "df = pd.read_sql('''\n",
    "    SELECT  app.[RECORDID]\n",
    "      ,app.INTERNALID \n",
    "      ,PATIENTS.FIRSTNAME as PATIENTS_FIRSTNAME\n",
    "\t,PATIENTS.SURNAME as PATIENTS_SURNAME\n",
    "      ,app.USERID\n",
    "      ,USERS.FIRSTNAME as users_firstname\n",
    "      ,USERs.SURNAME as users_SURNAME\n",
    "      ,app.[APPOINTMENTDATE]\n",
    "      ,app.[APPOINTMENTTIME]\n",
    "      ,app.[APPOINTMENTLENGTH]\n",
    "      ,code.DESCRIPTION as app_code\n",
    "      ,typ.[DESCRIPTION] as app_type\n",
    "      ,app.[REASON]   \n",
    "      ,app.[ARRIVALTIME]\n",
    "      ,app.[CONSULTATIONTIME]\n",
    "      ,app.[ROOMID]\n",
    "      ,app.[CREATED]\n",
    "      ,app.[CREATEDBY]\n",
    "      ,app.[BOOKEDBY]\n",
    "      ,app.[URGENT]      \n",
    "      ,app.[ITEMLIST]\n",
    "      ,app.[COMMENT]\n",
    "      FROM Appointments as app\n",
    "\t  join PATIENTS on app.INTERNALID = PATIENTS.INTERNALID\n",
    "\t  join USERS on app.USERID = USERS.USERID\n",
    "        join APPOINTMENTTYPES as typ on app.APPOINTMENTTYPE = typ.APPOINTMENTCODE\n",
    "\t  join APPOINTMENTCODES as code on app.APPOINTMENTCODE = code.APPOINTMENTCODE\n",
    "      \n",
    "      \n",
    "      ''', conn) \n",
    "write_to_important(df, \"Appointments\")\n",
    "write_to_json(df, \"Appointments\")"
   ]
  },
  {
   "cell_type": "code",
   "execution_count": 3,
   "metadata": {},
   "outputs": [],
   "source": [
    "df = pd.read_sql(\"SELECT * FROM VISITS\", conn) \n",
    "write_to_full(df, \"Patients_visits\")"
   ]
  },
  {
   "cell_type": "code",
   "execution_count": 7,
   "metadata": {},
   "outputs": [],
   "source": [
    "df = pd.read_sql(\"SELECT * FROM VISITTYPE\", conn) \n",
    "write_to_full(df, \"Patients_VISITTYPE\")"
   ]
  },
  {
   "cell_type": "code",
   "execution_count": 9,
   "metadata": {},
   "outputs": [],
   "source": [
    "df = pd.read_sql(\"SELECT * FROM VISITREASON\", conn) \n",
    "write_to_full(df, \"Patients_VISITREASON\")"
   ]
  },
  {
   "cell_type": "code",
   "execution_count": 28,
   "metadata": {},
   "outputs": [],
   "source": [
    "df = pd.read_sql('''\n",
    "SELECT   visit.[VISITID]\n",
    "      ,visit.INTERNALID\n",
    "      ,PATIENTS.FIRSTNAME as PATIENTS_FIRSTNAME\n",
    "\t,PATIENTS.SURNAME as PATIENTS_SURNAME\n",
    "      ,visit.USERID\n",
    "      ,USERS.FIRSTNAME as users_firstname\n",
    "\t  ,USERs.SURNAME as users_SURNAME\n",
    "      ,visit.[RECORDSTATUS]\n",
    "      ,typ.VISITTYPE\n",
    "      ,visit.[DRNAME]\n",
    "      ,visit.[VISITDATE]\n",
    "      ,visit.[DURATION]\n",
    "      ,visit.[VISITNOTES]\n",
    "\t,reason.REASON\n",
    "  FROM VISITS as visit\n",
    "  \t  join USERS on visit.USERID = USERS.USERID\n",
    "join PATIENTS on visit.INTERNALID = PATIENTS.INTERNALID\n",
    "  join VISITTYPE as typ on visit.VISITCODE = typ.VISITCODE\n",
    "  join VISITREASON as reason on visit.VISITID = reason.VISITID\n",
    "      \n",
    "      \n",
    "      ''', conn) \n",
    "write_to_important(df, \"Patients_visits\")\n",
    "write_to_json(df, \"Patients_visits\")\n"
   ]
  },
  {
   "cell_type": "code",
   "execution_count": null,
   "metadata": {},
   "outputs": [],
   "source": [
    "\n",
    "df = pd.read_sql('''\n",
    "SELECT ph.[RECORDID]\n",
    "      ,ph.[RECORDSTATUS]\n",
    "      ,ph.INTERNALID\n",
    "      ,PATIENTS.FIRSTNAME as PATIENTS_FIRSTNAME\n",
    "\t,PATIENTS.SURNAME as PATIENTS_SURNAME\n",
    "      ,ph.[YEAR]\n",
    "      ,ph.[MONTH]\n",
    "      ,ph.[DAY]\n",
    "      ,ph.[ITEMTEXT]\n",
    "      ,ph.[ITEMCODE]\n",
    "      ,ph.[STATUSCODE]\n",
    "      ,ph.[DETAILS]\n",
    "  FROM  [PASTHISTORY] as ph\n",
    "  join PATIENTS on ph.INTERNALID = PATIENTS.INTERNALID\n",
    "      ''', conn) \n",
    "write_to_important(df, \"Patients_medication_history\")\n",
    "write_to_json(df, \"Patients_medication_history\")"
   ]
  },
  {
   "cell_type": "code",
   "execution_count": null,
   "metadata": {},
   "outputs": [],
   "source": [
    "\n",
    "\n",
    "conn.close()"
   ]
  },
  {
   "cell_type": "code",
   "execution_count": null,
   "metadata": {},
   "outputs": [],
   "source": [
    "import re\n",
    "tmp = \"asdasd\"\n",
    "\n",
    "\n",
    "re.search"
   ]
  }
 ],
 "metadata": {
  "kernelspec": {
   "display_name": "Python 3",
   "language": "python",
   "name": "python3"
  },
  "language_info": {
   "codemirror_mode": {
    "name": "ipython",
    "version": 3
   },
   "file_extension": ".py",
   "mimetype": "text/x-python",
   "name": "python",
   "nbconvert_exporter": "python",
   "pygments_lexer": "ipython3",
   "version": "3.9.4"
  },
  "orig_nbformat": 4
 },
 "nbformat": 4,
 "nbformat_minor": 2
}
